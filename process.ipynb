{
 "cells": [
  {
   "cell_type": "markdown",
   "metadata": {},
   "source": [
    "# Importamos librerias"
   ]
  },
  {
   "cell_type": "code",
   "execution_count": null,
   "metadata": {},
   "outputs": [],
   "source": [
    "import pandas as pd\n",
    "import os\n",
    "import time\n",
    "CORREO_PROVEEDOR = \"iarangurenc@minsait.com, elasheras@minsait.com\"\n",
    "TEMPLATE_PATH = r\"C:\\Users\\palvaroh\\Desktop\\Ofertas Generator\\plantilla_nd.docx\"\n",
    "CORREO_CLIENTE = \"USER1@GMAIL.COM\""
   ]
  },
  {
   "cell_type": "markdown",
   "metadata": {},
   "source": [
    "# Poner descripcion"
   ]
  },
  {
   "cell_type": "code",
   "execution_count": 95,
   "metadata": {},
   "outputs": [
    {
     "name": "stdout",
     "output_type": "stream",
     "text": [
      "\n",
      "El área de Innovation en su vertiente más tecnológica, y como ejemplo de modernidad e\n",
      "innovación continua, requiere de una colaboración técnica muy especializada para poder\n",
      "realizar actividades estructurales de diversa complejidad y variedad. Esta colaboración\n",
      "exige así mismo la realización de determinadas tareas de carácter técnico/gestión que no\n",
      "pueden alcanzarse con los perfiles del personal propio asignado en la actualidad. Para\n",
      "ello se requiere de dos técnicos generalistas de amplio espectro que ayude en la\n",
      "realización de parte de las actividades.\n",
      "El periodo de aplicación de esta oferta es desde enero a marzo de 2025.\n",
      "\n",
      "Detalle de las Actividades/Servicios\n",
      "\n",
      "1)\tAdaptaciones menores de productos o tecnologias paquetizadas o cerradas para reenfocar su funcionalidad a las necesidades del Banco.\n",
      "\n",
      "2) Colaboracion en la gestion de la demanda de las Plataformas de BBVA Open\n",
      "Innovation.\n",
      "\n",
      "Alcance:\n",
      "\n",
      "Algunas de las actividades concretas que se han identificado podrian ser las siguientes,\n",
      "si bien al tratarse de un alcance amplio no cubre la totalidad de las esperadas a lo largo\n",
      "de la colaboracion:\n",
      "• Soporte tecnologico a las plataformas de SFMC y OMP.\n",
      "\n"
     ]
    }
   ],
   "source": [
    "DESCRIPCION = \"\"\"\n",
    "El área de Innovation en su vertiente más tecnológica, y como ejemplo de modernidad e\n",
    "innovación continua, requiere de una colaboración técnica muy especializada para poder\n",
    "realizar actividades estructurales de diversa complejidad y variedad. Esta colaboración\n",
    "exige así mismo la realización de determinadas tareas de carácter técnico/gestión que no\n",
    "pueden alcanzarse con los perfiles del personal propio asignado en la actualidad. Para\n",
    "ello se requiere de dos técnicos generalistas de amplio espectro que ayude en la\n",
    "realización de parte de las actividades.\n",
    "El periodo de aplicación de esta oferta es desde enero a marzo de 2025.\n",
    "\n",
    "Detalle de las Actividades/Servicios\n",
    "\n",
    "1)\tAdaptaciones menores de productos o tecnologias paquetizadas o cerradas para reenfocar su funcionalidad a las necesidades del Banco.\n",
    "\n",
    "2) Colaboracion en la gestion de la demanda de las Plataformas de BBVA Open\n",
    "Innovation.\n",
    "\n",
    "Alcance:\n",
    "\n",
    "Algunas de las actividades concretas que se han identificado podrian ser las siguientes,\n",
    "si bien al tratarse de un alcance amplio no cubre la totalidad de las esperadas a lo largo\n",
    "de la colaboracion:\n",
    "• Soporte tecnologico a las plataformas de SFMC y OMP.\n",
    "\"\"\"\n",
    "\n",
    "print(DESCRIPCION)"
   ]
  },
  {
   "cell_type": "markdown",
   "metadata": {},
   "source": [
    "# Campos a buscar"
   ]
  },
  {
   "cell_type": "code",
   "execution_count": 96,
   "metadata": {},
   "outputs": [
    {
     "name": "stdout",
     "output_type": "stream",
     "text": [
      "oferta_referencia : -\n",
      "nombre_proyecto : -\n",
      "correo_cliente : USER1@GMAIL.COM\n",
      "correo_proveedor : iarangurenc@minsait.com, elasheras@minsait.com\n",
      "fecha_inicio : -\n",
      "fecha_fin : -\n",
      "post1 : -\n",
      "posth1 : -\n",
      "postc1 : -\n",
      "post2 : -\n",
      "posth2 : -\n",
      "postc2 : -\n",
      "post3 : -\n",
      "posth3 : -\n",
      "postc3 : -\n",
      "post4 : -\n",
      "posth4 : -\n",
      "postc4 : -\n",
      "post5 : -\n",
      "posth5 : -\n",
      "postc5 : -\n",
      "totalh : -\n",
      "totalsiva : -\n",
      "totalciva : -\n",
      "today : 12/03/2025\n",
      "descripcion : -\n"
     ]
    }
   ],
   "source": [
    "cambios = {\n",
    "    'oferta_referencia' : '-',\n",
    "    'nombre_proyecto' : '-',\n",
    "    'correo_cliente' : CORREO_CLIENTE,\n",
    "\t'correo_proveedor' : CORREO_PROVEEDOR,\n",
    "    'fecha_inicio' : '-',\n",
    "    'fecha_fin' : '-',\n",
    "    'post1' : '-',\n",
    "    'posth1' : '-',\n",
    "    'postc1' : '-',\n",
    "    'post2' : '-',\n",
    "    'posth2' : '-',\n",
    "\t'postc2' : '-',\n",
    "    'post3' : '-',\n",
    "    'posth3' : '-',\n",
    "    'postc3' : '-',\n",
    "    'post4' : '-',\n",
    "    'posth4' : '-',\n",
    "    'postc4' : '-',\n",
    "    'post5' : '-',\n",
    "    'posth5' : '-',\n",
    "    'postc5' : '-',\n",
    "    'totalh' : '-',\n",
    "    'totalsiva' : '-',\n",
    "    'totalciva' : '-',\n",
    "    'today' : time.strftime(\"%d/%m/%Y\"),    \n",
    "    'descripcion' : '-',\n",
    "}\n",
    "for campo in cambios:\n",
    "    print(f'{campo} : {cambios[campo]}')"
   ]
  },
  {
   "cell_type": "markdown",
   "metadata": {},
   "source": [
    "# Leer Excel"
   ]
  },
  {
   "cell_type": "code",
   "execution_count": 97,
   "metadata": {},
   "outputs": [
    {
     "data": {
      "text/html": [
       "<div>\n",
       "<style scoped>\n",
       "    .dataframe tbody tr th:only-of-type {\n",
       "        vertical-align: middle;\n",
       "    }\n",
       "\n",
       "    .dataframe tbody tr th {\n",
       "        vertical-align: top;\n",
       "    }\n",
       "\n",
       "    .dataframe thead th {\n",
       "        text-align: right;\n",
       "    }\n",
       "</style>\n",
       "<table border=\"1\" class=\"dataframe\">\n",
       "  <thead>\n",
       "    <tr style=\"text-align: right;\">\n",
       "      <th></th>\n",
       "      <th>0</th>\n",
       "      <th>1</th>\n",
       "      <th>2</th>\n",
       "      <th>3</th>\n",
       "      <th>4</th>\n",
       "      <th>5</th>\n",
       "      <th>6</th>\n",
       "      <th>7</th>\n",
       "    </tr>\n",
       "  </thead>\n",
       "  <tbody>\n",
       "    <tr>\n",
       "      <th>0</th>\n",
       "      <td>Desglose oferta pedido_POST</td>\n",
       "      <td>NaN</td>\n",
       "      <td>NaN</td>\n",
       "      <td>NaN</td>\n",
       "      <td>NaN</td>\n",
       "      <td>NaN</td>\n",
       "      <td>1.21</td>\n",
       "      <td>NaN</td>\n",
       "    </tr>\n",
       "    <tr>\n",
       "      <th>1</th>\n",
       "      <td>NaN</td>\n",
       "      <td>NaN</td>\n",
       "      <td>NaN</td>\n",
       "      <td>NaN</td>\n",
       "      <td>NaN</td>\n",
       "      <td>NaN</td>\n",
       "      <td>NaN</td>\n",
       "      <td>NaN</td>\n",
       "    </tr>\n",
       "    <tr>\n",
       "      <th>2</th>\n",
       "      <td>Razon Social Proveedor:</td>\n",
       "      <td>Indra Soluciones Tecnologías de la Información...</td>\n",
       "      <td>NaN</td>\n",
       "      <td>NaN</td>\n",
       "      <td>NaN</td>\n",
       "      <td>FECHAS SERVICIO (DD.MM.AAAA)</td>\n",
       "      <td>NaN</td>\n",
       "      <td>NaN</td>\n",
       "    </tr>\n",
       "    <tr>\n",
       "      <th>3</th>\n",
       "      <td>CIF Proveedor:</td>\n",
       "      <td>B88018098</td>\n",
       "      <td>NaN</td>\n",
       "      <td>NaN</td>\n",
       "      <td>NaN</td>\n",
       "      <td>Inicio</td>\n",
       "      <td>01.01.2025</td>\n",
       "      <td>NaN</td>\n",
       "    </tr>\n",
       "    <tr>\n",
       "      <th>4</th>\n",
       "      <td>Nº GPS del Proveedor:</td>\n",
       "      <td>244926</td>\n",
       "      <td>NaN</td>\n",
       "      <td>NaN</td>\n",
       "      <td>NaN</td>\n",
       "      <td>Finalización</td>\n",
       "      <td>31.03.2025</td>\n",
       "      <td>NaN</td>\n",
       "    </tr>\n",
       "  </tbody>\n",
       "</table>\n",
       "</div>"
      ],
      "text/plain": [
       "                             0  \\\n",
       "0  Desglose oferta pedido_POST   \n",
       "1                          NaN   \n",
       "2      Razon Social Proveedor:   \n",
       "3               CIF Proveedor:   \n",
       "4        Nº GPS del Proveedor:   \n",
       "\n",
       "                                                   1    2    3    4  \\\n",
       "0                                                NaN  NaN  NaN  NaN   \n",
       "1                                                NaN  NaN  NaN  NaN   \n",
       "2  Indra Soluciones Tecnologías de la Información...  NaN  NaN  NaN   \n",
       "3                                          B88018098  NaN  NaN  NaN   \n",
       "4                                             244926  NaN  NaN  NaN   \n",
       "\n",
       "                              5           6    7  \n",
       "0                           NaN        1.21  NaN  \n",
       "1                           NaN         NaN  NaN  \n",
       "2  FECHAS SERVICIO (DD.MM.AAAA)         NaN  NaN  \n",
       "3                        Inicio  01.01.2025  NaN  \n",
       "4                  Finalización  31.03.2025  NaN  "
      ]
     },
     "execution_count": 97,
     "metadata": {},
     "output_type": "execute_result"
    }
   ],
   "source": [
    "# Leer el archivo de Excel sin headers\n",
    "excel_path = \"BV100000.xlsx\"\n",
    "\n",
    "df = pd.read_excel(excel_path, header=None, sheet_name='Plantilla POST')\n",
    "df.head(5)"
   ]
  },
  {
   "cell_type": "markdown",
   "metadata": {},
   "source": [
    "# Extraer datos del Excel"
   ]
  },
  {
   "cell_type": "code",
   "execution_count": 98,
   "metadata": {},
   "outputs": [
    {
     "name": "stdout",
     "output_type": "stream",
     "text": [
      "\u001b[92mDatos Extraidos del Excel: \u001b[0m\n",
      "--------------------------------\n",
      "\u001b[92mOferta de referencia:\u001b[0m BV100000\n",
      "\u001b[92mNombre del proyecto:\u001b[0m Actividad tecnologíca de apoyo a Innovacion SFMC durante Q1 2025\n",
      "\u001b[92mFecha de inicio:\u001b[0m 01/01/2025\n",
      "\u001b[92mFecha de fin:\u001b[0m 31/03/2025\n",
      "\u001b[92mSDA:\u001b[0m -\n",
      "\u001b[92mPerfiles POST:\u001b[0m ['Analista Banca Digital STD Especial']\n",
      "\u001b[92mHoras de los perfiles POST:\u001b[0m [500]\n",
      "\u001b[92mPrecios de los perfiles POST:\u001b[0m ['22.520,00']\n",
      "\u001b[92mHoras totales:\u001b[0m 500\n",
      "\u001b[92mImporte total sin IVA:\u001b[0m 22.520,00\n",
      "\u001b[92mImporte total con IVA:\u001b[0m 27.249,20\n"
     ]
    }
   ],
   "source": [
    "# Oferta de referencia es el nombre del archivo del excel, no de la hoja\n",
    "oferta_referencia = os.path.basename(excel_path).split('.')[0]\n",
    "nombre_proyecto = df.loc[6, 1]\n",
    "fecha_inicio = pd.to_datetime(df.loc[3, 6], format='%d.%m.%Y').strftime('%d/%m/%Y')\n",
    "fecha_fin = pd.to_datetime(df.loc[4, 6], format='%d.%m.%Y').strftime('%d/%m/%Y')\n",
    "sda = df.loc[7,1]\n",
    "post_name_list = []\n",
    "post_hours_list = []\n",
    "post_price_list = []\n",
    "# Desde la row 10 hasta la row 77, si hay valor en la columna 6 o un valor diferente a 0, se agrega a la lista\n",
    "for i in range(10, 78):\n",
    "\tif df.loc[i, 6] != 0:\n",
    "\t\tpost_price_list.append('{:,.2f}'.format(float(df.loc[i, 6])).replace(',', 'X').replace('.', ',').replace('X', '.'))\n",
    "\t\tpost_hours_list.append(df.loc[i, 3])\n",
    "\t\tpost_name_list.append(df.loc[i, 0])\n",
    "horas_totales = df.iloc[78, 3]\n",
    "# Formateamos e intercambiamos separadores para que el separador de miles sea \".\" y el decimal \",\"\n",
    "importe_total_sin_iva = '{:,.2f}'.format(float(df.loc[6, 6])).replace(',', 'X').replace('.', ',').replace('X', '.')\n",
    "importe_total_con_iva = '{:,.2f}'.format(float(df.loc[7, 6])).replace(',', 'X').replace('.', ',').replace('X', '.')\n",
    "today = time.strftime(\"%d/%m/%Y\")\n",
    "\n",
    "if pd.isna(sda):\n",
    "\tpass\n",
    "else:\n",
    "\tnombre_proyecto = nombre_proyecto + ' (' + sda + ')'\n",
    "\n",
    "print(f'\\033[92mDatos Extraidos del Excel: \\033[0m')\n",
    "print('--------------------------------')\n",
    "print(f'\\033[92mOferta de referencia:\\033[0m {oferta_referencia}')\n",
    "print(f'\\033[92mNombre del proyecto:\\033[0m {nombre_proyecto}')\n",
    "print(f'\\033[92mFecha de inicio:\\033[0m {fecha_inicio}')\n",
    "print(f'\\033[92mFecha de fin:\\033[0m {fecha_fin}')\n",
    "print(f'\\033[92mSDA:\\033[0m -') if pd.isna(sda) else print(f'\\033[92mSDA:\\033[0m {sda}')\n",
    "print(f'\\033[92mPerfiles POST:\\033[0m {post_name_list}')\n",
    "print(f'\\033[92mHoras de los perfiles POST:\\033[0m {post_hours_list}')\n",
    "print(f'\\033[92mPrecios de los perfiles POST:\\033[0m {post_price_list}')\n",
    "print(f'\\033[92mHoras totales:\\033[0m {horas_totales}')\n",
    "print(f'\\033[92mImporte total sin IVA:\\033[0m {importe_total_sin_iva}')\n",
    "print(f'\\033[92mImporte total con IVA:\\033[0m {importe_total_con_iva}')"
   ]
  },
  {
   "cell_type": "code",
   "execution_count": 99,
   "metadata": {},
   "outputs": [
    {
     "name": "stdout",
     "output_type": "stream",
     "text": [
      "oferta_referencia : BV100000\n",
      "nombre_proyecto : Actividad tecnologíca de apoyo a Innovacion SFMC durante Q1 2025\n",
      "correo_cliente : USER1@GMAIL.COM\n",
      "correo_proveedor : iarangurenc@minsait.com, elasheras@minsait.com\n",
      "fecha_inicio : 01/01/2025\n",
      "fecha_fin : 31/03/2025\n",
      "post1 : Analista Banca Digital STD Especial\n",
      "posth1 : 500\n",
      "postc1 : 22.520,00\n",
      "post2 : -\n",
      "posth2 : -\n",
      "postc2 : -\n",
      "post3 : -\n",
      "posth3 : -\n",
      "postc3 : -\n",
      "post4 : -\n",
      "posth4 : -\n",
      "postc4 : -\n",
      "post5 : -\n",
      "posth5 : -\n",
      "postc5 : -\n",
      "totalh : 500\n",
      "totalsiva : 22.520,00\n",
      "totalciva : 27.249,20\n",
      "today : 12/03/2025\n",
      "descripcion : \n",
      "El área de Innovation en su vertiente más tecnológica, y como ejemplo de modernidad e\n",
      "innovación continua, requiere de una colaboración técnica muy especializada para poder\n",
      "realizar actividades estructurales de diversa complejidad y variedad. Esta colaboración\n",
      "exige así mismo la realización de determinadas tareas de carácter técnico/gestión que no\n",
      "pueden alcanzarse con los perfiles del personal propio asignado en la actualidad. Para\n",
      "ello se requiere de dos técnicos generalistas de amplio espectro que ayude en la\n",
      "realización de parte de las actividades.\n",
      "El periodo de aplicación de esta oferta es desde enero a marzo de 2025.\n",
      "\n",
      "Detalle de las Actividades/Servicios\n",
      "\n",
      "1)\tAdaptaciones menores de productos o tecnologias paquetizadas o cerradas para reenfocar su funcionalidad a las necesidades del Banco.\n",
      "\n",
      "2) Colaboracion en la gestion de la demanda de las Plataformas de BBVA Open\n",
      "Innovation.\n",
      "\n",
      "Alcance:\n",
      "\n",
      "Algunas de las actividades concretas que se han identificado podrian ser las siguientes,\n",
      "si bien al tratarse de un alcance amplio no cubre la totalidad de las esperadas a lo largo\n",
      "de la colaboracion:\n",
      "• Soporte tecnologico a las plataformas de SFMC y OMP.\n",
      "\n"
     ]
    }
   ],
   "source": [
    "# Actualizamos los cambios del diccionario\n",
    "cambios['oferta_referencia'] = oferta_referencia\n",
    "cambios['nombre_proyecto'] = nombre_proyecto\n",
    "cambios['fecha_inicio'] = fecha_inicio\n",
    "cambios['fecha_fin'] = fecha_fin\n",
    "# Utilizando un bucle para asignar los valores de los perfiles POST\n",
    "for i in range(5):\n",
    "\tcambios[f'post{i+1}'] = post_name_list[i] if len(post_name_list) > i else '-'\n",
    "\tcambios[f'posth{i+1}'] = post_hours_list[i] if len(post_hours_list) > i else '-'\n",
    "\tcambios[f'postc{i+1}'] = post_price_list[i] if len(post_price_list) > i else '-'\n",
    "cambios['totalh'] = horas_totales\n",
    "cambios['totalsiva'] = importe_total_sin_iva\n",
    "cambios['totalciva'] = importe_total_con_iva\n",
    "cambios['today'] = today\n",
    "cambios['descripcion'] = DESCRIPCION\n",
    "\n",
    "for campo in cambios:\n",
    "    print(f'{campo} : {cambios[campo]}')"
   ]
  },
  {
   "cell_type": "markdown",
   "metadata": {},
   "source": [
    "# WORD"
   ]
  },
  {
   "cell_type": "code",
   "execution_count": 100,
   "metadata": {},
   "outputs": [],
   "source": [
    "from docx import Document\n",
    "from docx2pdf import convert\n",
    "\n",
    "def replace_text_in_doc(doc, placeholder, replacement):\n",
    "    \"\"\"\n",
    "    Reemplaza un texto específico en todo el documento de Word, incluyendo párrafos y tablas.\n",
    "    \n",
    "    Args:\n",
    "        doc (Document): Documento Word cargado con python-docx.\n",
    "        placeholder (str): Texto a buscar, por ejemplo, \"<<Oferta_de_Referencia>>\".\n",
    "        replacement (str): Texto de reemplazo.\n",
    "    \"\"\"\n",
    "    # Reemplazo en párrafos\n",
    "    for p in doc.paragraphs:\n",
    "        if placeholder in p.text:\n",
    "            p.text = p.text.replace(placeholder, replacement)\n",
    "\n",
    "    # Reemplazo en tablas\n",
    "    for table in doc.tables:\n",
    "        for row in table.rows:\n",
    "            for cell in row.cells:\n",
    "                if placeholder in cell.text:\n",
    "                    cell.text = cell.text.replace(placeholder, replacement)"
   ]
  },
  {
   "cell_type": "code",
   "execution_count": 101,
   "metadata": {},
   "outputs": [
    {
     "name": "stdout",
     "output_type": "stream",
     "text": [
      "1 Oferta de Referencia: <<oferta_referencia>>\n",
      "5 NOMBRE DEL PROYECTO: <<nombre_proyecto>>\n",
      "17 Correo electrónico del Cliente: <<correo_cliente>>\n",
      "19 Correo electrónico del Proveedor: <<correo_proveedor>>\n",
      "29 X Desde el día <<fecha_inicio>> Hasta el día <<fecha_fin>>\n",
      "37 Descripción:\n",
      "39 <<descripcion>>\n",
      "40 \n",
      "41 \n",
      "\u001b[92m****************************************\u001b[0m\n",
      "\u001b[92m* Reemplazo de placeholders completado *\u001b[0m\n",
      "\u001b[92m****************************************\u001b[0m\n",
      "Oferta de Referencia: BV100000\n",
      "NOMBRE DEL PROYECTO: Actividad tecnologíca de apoyo a Innovacion SFMC durante Q1 2025\n",
      "Correo electrónico del Cliente: USER1@GMAIL.COM\n",
      "Correo electrónico del Proveedor: iarangurenc@minsait.com, elasheras@minsait.com\n",
      "X Desde el día 01/01/2025 Hasta el día 31/03/2025\n",
      "Descripción:\n",
      "\n",
      "El área de Innovation en su vertiente más tecnológica, y como ejemplo de modernidad e\n",
      "innovación continua, requiere de una colaboración técnica muy especializada para poder\n",
      "realizar actividades estructurales de diversa complejidad y variedad. Esta colaboración\n",
      "exige así mismo la realización de determinadas tareas de carácter técnico/gestión que no\n",
      "pueden alcanzarse con los perfiles del personal propio asignado en la actualidad. Para\n",
      "ello se requiere de dos técnicos generalistas de amplio espectro que ayude en la\n",
      "realización de parte de las actividades.\n",
      "El periodo de aplicación de esta oferta es desde enero a marzo de 2025.\n",
      "\n",
      "Detalle de las Actividades/Servicios\n",
      "\n",
      "1)\tAdaptaciones menores de productos o tecnologias paquetizadas o cerradas para reenfocar su funcionalidad a las necesidades del Banco.\n",
      "\n",
      "2) Colaboracion en la gestion de la demanda de las Plataformas de BBVA Open\n",
      "Innovation.\n",
      "\n",
      "Alcance:\n",
      "\n",
      "Algunas de las actividades concretas que se han identificado podrian ser las siguientes,\n",
      "si bien al tratarse de un alcance amplio no cubre la totalidad de las esperadas a lo largo\n",
      "de la colaboracion:\n",
      "• Soporte tecnologico a las plataformas de SFMC y OMP.\n",
      "\n",
      "\n",
      "\n"
     ]
    }
   ],
   "source": [
    "# Cargamos el documento de Word\n",
    "doc = Document(TEMPLATE_PATH)\n",
    "# Mostramos el texto de los primeros 5 párrafos\n",
    "for i in [1, 5, 17, 19, 29, 37, 39, 40, 41]:\n",
    "\tprint(i, doc.paragraphs[i].text)\n",
    "\n",
    "\n",
    "# Reemplazamos los placeholders\n",
    "for placeholder, replacement in cambios.items():\n",
    "\treplace_text_in_doc(doc, str(f\"<<{placeholder}>>\"), str(replacement))\n",
    "\n",
    "msg = \"Reemplazo de placeholders completado\"\n",
    "border = \"*\" * (len(msg) + 4)\n",
    "print(\"\\033[92m\" + border + \"\\033[0m\")\n",
    "print(\"\\033[92m\" + \"* \" + msg + \" *\" + \"\\033[0m\")\n",
    "print(\"\\033[92m\" + border + \"\\033[0m\")\n",
    "# Vemos si se ha reemplazado correctamente\n",
    "for i in [1, 5, 17, 19, 29, 37, 39, 40, 41]:\n",
    "\tprint(doc.paragraphs[i].text)\n",
    "\n"
   ]
  },
  {
   "cell_type": "markdown",
   "metadata": {},
   "source": [
    "# Correcciones"
   ]
  },
  {
   "cell_type": "code",
   "execution_count": 102,
   "metadata": {},
   "outputs": [],
   "source": [
    "# Ponemos la oferta de referencia en negrita\n",
    "doc.paragraphs[1].runs[0].bold = True\n",
    "\n",
    "# Unicamente las primeras 19 letras del párrafo 5 en subrayado, lo demás normal\n",
    "para = doc.paragraphs[5]\n",
    "text = para.runs[0].text\n",
    "# Borra el contenido original del run\n",
    "para.runs[0].text = \"\"\n",
    "# Crea un run para las primeras 19 letras y lo subraya\n",
    "run1 = para.add_run(text[:19])\n",
    "run1.underline = True\n",
    "# Crea otro run para el resto del texto sin subrayado\n",
    "run2 = para.add_run(text[19:])\n",
    "run2.underline = False"
   ]
  },
  {
   "cell_type": "code",
   "execution_count": 103,
   "metadata": {},
   "outputs": [
    {
     "name": "stdout",
     "output_type": "stream",
     "text": [
      "Tabla antes de borrar las rows\n",
      "\n",
      "HORAS\n",
      "COSTE (Eur) (1)\n",
      "\n",
      "Analista Banca Digital STD Especial\n",
      "500\n",
      "22.520,00 €\n",
      "\n",
      "-\n",
      "-\n",
      "- €\n",
      "\n",
      "-\n",
      "-\n",
      "- €\n",
      "\n",
      "-\n",
      "-\n",
      "- €\n",
      "\n",
      "-\n",
      "-\n",
      "- €\n",
      "\n",
      "TOTAL (neto)\n",
      "500\n",
      "22.520,00 €\n",
      "\n",
      "TOTAL (con impuestos)\n",
      "500\n",
      "27.249,20 €\n",
      "\n"
     ]
    }
   ],
   "source": [
    "# Primero, encontramos la tabla de perfiles POST\n",
    "table = doc.tables[1]\n",
    "# Imprimimos la tabla antes de borrar las rows\n",
    "print(\"Tabla antes de borrar las rows\")\n",
    "for row in table.rows:\n",
    "\tfor cell in row.cells:\n",
    "\t\tprint(cell.text)\n",
    "\tprint()"
   ]
  },
  {
   "cell_type": "code",
   "execution_count": 104,
   "metadata": {},
   "outputs": [
    {
     "name": "stdout",
     "output_type": "stream",
     "text": [
      "Tabla después de borrar las rows\n",
      "\n",
      "HORAS\n",
      "COSTE (Eur) (1)\n",
      "\n",
      "Analista Banca Digital STD Especial\n",
      "500\n",
      "22.520,00 €\n",
      "\n",
      "TOTAL (neto)\n",
      "500\n",
      "22.520,00 €\n",
      "\n",
      "TOTAL (con impuestos)\n",
      "500\n",
      "27.249,20 €\n",
      "\n"
     ]
    }
   ],
   "source": [
    "# Hacemos que las ultimas dos filas de la tabla de perfiles POST sean en negrita\n",
    "for row in table.rows[-2:]:\n",
    "\tfor cell in row.cells:\n",
    "\t\tif cell.paragraphs and len(cell.paragraphs[0].runs) > 0:\n",
    "\t\t\tcell.paragraphs[0].runs[0].bold = True\n",
    "\n",
    "# Borramos las rows de la tabla de perfiles POST que no se han rellenado (que tienen guiones)\n",
    "rows_to_delete = []\n",
    "for i, row in enumerate(table.rows):\n",
    "\tif row.cells[0].text.strip() == \"-\":\n",
    "\t\trows_to_delete.append(i)\n",
    "for i in sorted(rows_to_delete, reverse=True):\n",
    "\trow = table.rows[i]\n",
    "\trow._element.getparent().remove(row._element)\n",
    "\n",
    "# Imprimimos la tabla después de borrar las rows\n",
    "print(\"Tabla después de borrar las rows\")\n",
    "for row in table.rows:\n",
    "\tfor cell in row.cells:\n",
    "\t\tprint(cell.text)\n",
    "\tprint()"
   ]
  },
  {
   "cell_type": "code",
   "execution_count": 105,
   "metadata": {},
   "outputs": [
    {
     "name": "stdout",
     "output_type": "stream",
     "text": [
      "Documento .docx guardado correctamente\n"
     ]
    },
    {
     "name": "stderr",
     "output_type": "stream",
     "text": [
      "100%|██████████| 1/1 [00:05<00:00,  5.53s/it]"
     ]
    },
    {
     "name": "stdout",
     "output_type": "stream",
     "text": [
      "Documento .pdf guardado correctamente\n"
     ]
    },
    {
     "name": "stderr",
     "output_type": "stream",
     "text": [
      "\n"
     ]
    }
   ],
   "source": [
    "# Guardamos el documento con el mismo nombre que el archivo de Excel\n",
    "doc_path = os.path.join(os.path.dirname(TEMPLATE_PATH), f\"{oferta_referencia}.docx\")\n",
    "doc.save(doc_path)\n",
    "print(\"Documento .docx guardado correctamente\")\n",
    "\n",
    "# Convertimos el documento a PDF\n",
    "pdf_path = os.path.join(os.path.dirname(TEMPLATE_PATH), f\"{oferta_referencia}.pdf\")\n",
    "convert(doc_path, pdf_path)\n",
    "print(\"Documento .pdf guardado correctamente\")"
   ]
  }
 ],
 "metadata": {
  "kernelspec": {
   "display_name": "Python 3",
   "language": "python",
   "name": "python3"
  },
  "language_info": {
   "codemirror_mode": {
    "name": "ipython",
    "version": 3
   },
   "file_extension": ".py",
   "mimetype": "text/x-python",
   "name": "python",
   "nbconvert_exporter": "python",
   "pygments_lexer": "ipython3",
   "version": "3.11.9"
  }
 },
 "nbformat": 4,
 "nbformat_minor": 2
}
